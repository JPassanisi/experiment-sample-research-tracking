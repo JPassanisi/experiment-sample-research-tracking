{
 "cells": [
  {
   "cell_type": "markdown",
   "metadata": {
    "_uuid": "0f481efea18c0439f5b7e12a3b492dac61e2c6da"
   },
   "source": [
    "# Fruits-360 - Transfer Learning using Keras and ResNet-50\n",
    "\n",
    "* This notebook is a brief application of transfer learning on the Fruits-360 [Dataset](https://www.kaggle.com/moltean/fruits). \n",
    "* This data set consists of 42345 images of 64 fruits.\n",
    "* We compare the Transfer learning approach to the regular approach.\n",
    "* Accuracy of 98.44% is achieved within 2 epochs.\n",
    "\n",
    "\n",
    "### **Contents:**\n",
    "\n",
    "*  **1. Brief Explanation of Transfer Learning**\n",
    "*  **2. Transfer Learning using Kaggle Kernels**\n",
    "*  **3. Reading and Visualizing the Data**   \n",
    "*  **4. Building and Compiling the Models**    \n",
    "*  **5. Training and Validating the Pretrained Model** \n",
    "*  **6. Training and Validating Vanilla Model**\n",
    "*  **7. Comparison between Pretrained Models and Vanilla Model**"
   ]
  },
  {
   "cell_type": "code",
   "execution_count": 60,
   "metadata": {
    "scrolled": true
   },
   "outputs": [
    {
     "name": "stdout",
     "output_type": "stream",
     "text": [
      "\u001b[33mSkipping tensorflow as it is not installed.\u001b[0m\n",
      "\u001b[33mYou are using pip version 10.0.1, however version 18.0 is available.\n",
      "You should consider upgrading via the 'pip install --upgrade pip' command.\u001b[0m\n"
     ]
    }
   ],
   "source": [
    "# Install dependencies\n",
    "#!pip install keras\n",
    "#!pip install plotly\n",
    "#!pip install tensorflow-gpu\n",
    "!pip uninstall -y tensorflow"
   ]
  },
  {
   "cell_type": "code",
   "execution_count": 56,
   "metadata": {
    "scrolled": true
   },
   "outputs": [
    {
     "name": "stdout",
     "output_type": "stream",
     "text": [
      "[NbConvertApp] Converting notebook script.ipynb to script\n",
      "[NbConvertApp] Writing 6228 bytes to script.txt\n"
     ]
    }
   ],
   "source": [
    "# export to py\n",
    "#!jupyter nbconvert --to script script.ipynb\n"
   ]
  },
  {
   "cell_type": "code",
   "execution_count": 15,
   "metadata": {
    "_kg_hide-input": false,
    "_kg_hide-output": true,
    "_uuid": "de59e88cd4f4d9e378bff69f93c7aff11399fefe"
   },
   "outputs": [
    {
     "name": "stdout",
     "output_type": "stream",
     "text": [
      "Requirement already satisfied: keras in /anaconda3/lib/python3.6/site-packages (2.2.2)\n",
      "Requirement already satisfied: six>=1.9.0 in /anaconda3/lib/python3.6/site-packages (from keras) (1.11.0)\n",
      "Requirement already satisfied: scipy>=0.14 in /anaconda3/lib/python3.6/site-packages (from keras) (1.1.0)\n",
      "Requirement already satisfied: h5py in /anaconda3/lib/python3.6/site-packages (from keras) (2.7.1)\n",
      "Requirement already satisfied: keras-applications==1.0.4 in /anaconda3/lib/python3.6/site-packages (from keras) (1.0.4)\n",
      "Requirement already satisfied: pyyaml in /anaconda3/lib/python3.6/site-packages (from keras) (3.12)\n",
      "Requirement already satisfied: numpy>=1.9.1 in /anaconda3/lib/python3.6/site-packages (from keras) (1.14.3)\n",
      "Requirement already satisfied: keras-preprocessing==1.0.2 in /anaconda3/lib/python3.6/site-packages (from keras) (1.0.2)\n",
      "\u001b[31mdistributed 1.21.8 requires msgpack, which is not installed.\u001b[0m\n",
      "\u001b[33mYou are using pip version 10.0.1, however version 18.0 is available.\n",
      "You should consider upgrading via the 'pip install --upgrade pip' command.\u001b[0m\n",
      "Collecting plotly\n",
      "\u001b[?25l  Downloading https://files.pythonhosted.org/packages/38/b0/86f6d2443a64be0e30543065c6839d0e033a41ffb7fa4ad0760ae9c3b534/plotly-3.1.1-py2.py3-none-any.whl (36.9MB)\n",
      "\u001b[K    100% |████████████████████████████████| 36.9MB 770kB/s ta 0:00:012\n",
      "\u001b[?25hRequirement already satisfied: requests in /anaconda3/lib/python3.6/site-packages (from plotly) (2.18.4)\n",
      "Requirement already satisfied: decorator>=4.0.6 in /anaconda3/lib/python3.6/site-packages (from plotly) (4.3.0)\n",
      "Requirement already satisfied: pytz in /anaconda3/lib/python3.6/site-packages (from plotly) (2018.4)\n",
      "Requirement already satisfied: six in /anaconda3/lib/python3.6/site-packages (from plotly) (1.11.0)\n",
      "Requirement already satisfied: retrying>=1.3.3 in /Users/yuval.g/.local/lib/python3.6/site-packages (from plotly) (1.3.3)\n",
      "Requirement already satisfied: nbformat>=4.2 in /anaconda3/lib/python3.6/site-packages (from plotly) (4.4.0)\n",
      "Requirement already satisfied: chardet<3.1.0,>=3.0.2 in /anaconda3/lib/python3.6/site-packages (from requests->plotly) (3.0.4)\n",
      "Requirement already satisfied: idna<2.7,>=2.5 in /anaconda3/lib/python3.6/site-packages (from requests->plotly) (2.6)\n",
      "Requirement already satisfied: urllib3<1.23,>=1.21.1 in /anaconda3/lib/python3.6/site-packages (from requests->plotly) (1.22)\n",
      "Requirement already satisfied: certifi>=2017.4.17 in /anaconda3/lib/python3.6/site-packages (from requests->plotly) (2018.4.16)\n",
      "Requirement already satisfied: ipython_genutils in /anaconda3/lib/python3.6/site-packages (from nbformat>=4.2->plotly) (0.2.0)\n",
      "Requirement already satisfied: traitlets>=4.1 in /anaconda3/lib/python3.6/site-packages (from nbformat>=4.2->plotly) (4.3.2)\n",
      "Requirement already satisfied: jsonschema!=2.5.0,>=2.4 in /anaconda3/lib/python3.6/site-packages (from nbformat>=4.2->plotly) (2.6.0)\n",
      "Requirement already satisfied: jupyter_core in /anaconda3/lib/python3.6/site-packages (from nbformat>=4.2->plotly) (4.4.0)\n",
      "\u001b[31mdistributed 1.21.8 requires msgpack, which is not installed.\u001b[0m\n",
      "Installing collected packages: plotly\n",
      "Successfully installed plotly-3.1.1\n",
      "\u001b[33mYou are using pip version 10.0.1, however version 18.0 is available.\n",
      "You should consider upgrading via the 'pip install --upgrade pip' command.\u001b[0m\n"
     ]
    }
   ],
   "source": [
    "# imports\n",
    "\n",
    "import os\n",
    "from os import listdir, makedirs\n",
    "from os.path import join, exists, expanduser\n",
    "\n",
    "from keras import applications\n",
    "from keras.preprocessing.image import ImageDataGenerator\n",
    "from keras import optimizers\n",
    "from keras.models import Sequential, Model\n",
    "from keras.layers import Dense, GlobalAveragePooling2D\n",
    "from keras.layers import Activation, Dropout, Flatten, Dense\n",
    "from keras import backend as K\n",
    "import tensorflow as tf\n",
    "# Any results you write to the current directory are saved as output."
   ]
  },
  {
   "cell_type": "markdown",
   "metadata": {
    "_uuid": "726794a568ee1c0686fccfb56590089b141b3c96"
   },
   "source": [
    "## 1. Transfer Learning\n",
    "\n",
    "In transfer learning, we first train a base network on a base dataset and task, and then we repurpose the learned features, or transfer them, to a second target network to be trained on a target dataset and task. This process will tend to work if the features are general, meaning suitable to both base and target tasks, instead of specific to the base task.\n",
    "\n",
    "Lisa Torrey and Jude Shavlik in their chapter on transfer learning describe three possible benefits to look for when using transfer learning:\n",
    "\n",
    "* Higher start. The initial skill (before refining the model) on the source model is higher than it otherwise would be.\n",
    "* Higher slope. The rate of improvement of skill during training of the source model is steeper than it otherwise would be.\n",
    "* Higher asymptote. The converged skill of the trained model is better than it otherwise would be.\n",
    "\n",
    "<center><img src=\"https://3qeqpr26caki16dnhd19sv6by6v-wpengine.netdna-ssl.com/wp-content/uploads/2017/09/Three-ways-in-which-transfer-might-improve-learning.png\"></center>\n",
    "\n",
    "\n",
    "Basically, we take a pre-trained model (the weights and parameters of a network that has been trained on a large dataset by somebody else) and “fine-tune” the model with our own dataset. The idea is that this pre-trained model will either provide the initialized weights leading to a faster convergence or it will act as a fixed feature extractor for the task of interest.\n",
    "\n",
    "\n",
    "\n",
    "These two major transfer learning scenarios look as follows:\n",
    "\n",
    "* Finetuning the convnet: Instead of random initializaion, we initialize the network with a pretrained network, like the one that has been trained on a large dataset like imagenet 1000. Rest of the training looks as usual. In this scenario the entire network needs to be retrained on the dataset of our interest\n",
    "\n",
    "* ConvNet as fixed feature extractor: Here, we will freeze the weights for all of the network except that of the final fully connected layer. This last fully connected layer is replaced with a new one with random weights and only this layer is trained.\n",
    "\n",
    "In this notebook we will demonstrate the first scenario.\n"
   ]
  },
  {
   "cell_type": "markdown",
   "metadata": {
    "_cell_guid": "b1076dfc-b9ad-4769-8c92-a6c4dae69d19",
    "_uuid": "8f2839f25d086af736a60e9eeb907d3b93b6e0e5",
    "collapsed": true
   },
   "source": [
    "## 2. Transfer Learning using Kaggle Kernels\n",
    "\n",
    "### Using the Keras Pretrained Models dataset\n",
    "Kaggle Kernels cannot use a network connection to download pretrained keras models. This [Dataset](https://www.kaggle.com/moltean/fruits) helps us to use our favorite pretrained models in the Kaggle Kernel environment.\n",
    "\n",
    "All we have to do is to copy the pretrained models to the cache directory (~/.keras/models) where keras is looking for them."
   ]
  },
  {
   "cell_type": "code",
   "execution_count": 44,
   "metadata": {
    "_uuid": "1ccfdcf9a114c018a1e3b5351b3780fa62316f39"
   },
   "outputs": [],
   "source": [
    "# This cell is only relevant to kaggle notebooks\n",
    "\n",
    "#cache_dir = expanduser(join('~', '.keras'))\n",
    "#if not exists(cache_dir):\n",
    "#    makedirs(cache_dir)\n",
    "#models_dir = join(cache_dir, 'models')\n",
    "#if not exists(models_dir):\n",
    "#    makedirs(models_dir)\n",
    "\n",
    "#!cp ../input/keras-pretrained-models/*notop* ~/.keras/models/\n",
    "#!cp ../input/keras-pretrained-models/imagenet_class_index.json ~/.keras/models/\n",
    "#!cp ../input/keras-pretrained-models/resnet50* ~/.keras/models/\n",
    "#print(\"Available Pretrained Models:\\n\")\n",
    "#!ls ~/.keras/models\n"
   ]
  },
  {
   "cell_type": "markdown",
   "metadata": {
    "_uuid": "8e127520c5fe42fc493678090ebc2effce7ea292"
   },
   "source": [
    "## 3. Reading and Visualizing the Data\n",
    "### Reading the Data\n",
    "\n",
    "Like the rest of Keras, the image augmentation API is simple and powerful. We will use the **ImageDataGenerator** to fetch data and feed it to our network\n",
    "\n",
    "Keras provides the **ImageDataGenerator** class that defines the configuration for image data preparation and augmentation. Rather than performing the operations on your entire image dataset in memory, the API is designed to be iterated by the deep learning model fitting process, creating augmented image data for you just-in-time. This reduces your memory overhead, but adds some additional time cost during model training.\n",
    "\n",
    "The data generator itself is in fact an iterator, returning batches of image samples from the directory when requested. We can configure the batch size and prepare the data generator and get batches of images by calling the **flow_from_directory()** function."
   ]
  },
  {
   "cell_type": "code",
   "execution_count": 17,
   "metadata": {
    "_uuid": "05b0416afd6f258a2b4ef88696da0ad1850dfbcc"
   },
   "outputs": [],
   "source": [
    "# dimensions of our images.\n",
    "# We set the img_width and img_height according to the pretrained models we are\n",
    "# going to use. The input shape for ResNet-50 is 224 by 224 by 3 with values from 0 to 1.0\n",
    "img_width, img_height = 224, 224\n",
    "\n",
    "train_data_dir = './fruits-360/Training/'\n",
    "validation_data_dir = './fruits-360/Test/'\n",
    "nb_train_samples = 31688\n",
    "nb_validation_samples = 10657\n",
    "batch_size = 16"
   ]
  },
  {
   "cell_type": "code",
   "execution_count": 18,
   "metadata": {
    "_uuid": "0ad73bf68a120def50005f5bcfc7538ed6a5fc0e"
   },
   "outputs": [
    {
     "name": "stdout",
     "output_type": "stream",
     "text": [
      "Found 37836 images belonging to 75 classes.\n",
      "Found 12709 images belonging to 75 classes.\n"
     ]
    }
   ],
   "source": [
    "train_datagen = ImageDataGenerator(\n",
    "    rescale=1. / 255,\n",
    "    shear_range=0.2,\n",
    "    zoom_range=0.2,\n",
    "    horizontal_flip=True)\n",
    "\n",
    "# RGB 255\n",
    "test_datagen = ImageDataGenerator(rescale=1. / 255)\n",
    "\n",
    "train_generator = train_datagen.flow_from_directory(\n",
    "    train_data_dir,\n",
    "    target_size=(img_height, img_width),\n",
    "    batch_size=batch_size,\n",
    "    class_mode='categorical')\n",
    "\n",
    "validation_generator = test_datagen.flow_from_directory(\n",
    "    validation_data_dir,\n",
    "    target_size=(img_height, img_width),\n",
    "    batch_size=batch_size,\n",
    "    class_mode='categorical')"
   ]
  },
  {
   "cell_type": "markdown",
   "metadata": {
    "_uuid": "6ac4af07bfb1a3368093ea3541e59d985de08647"
   },
   "source": [
    "### Visualizing the Data"
   ]
  },
  {
   "cell_type": "code",
   "execution_count": 19,
   "metadata": {
    "_kg_hide-input": true,
    "_kg_hide-output": true,
    "_uuid": "8e61e06a4661af276c2606d6110e4be29d88d294"
   },
   "outputs": [
    {
     "data": {
      "text/html": [
       "<script>requirejs.config({paths: { 'plotly': ['https://cdn.plot.ly/plotly-latest.min']},});if(!window.Plotly) {{require(['plotly'],function(plotly) {window.Plotly=plotly;});}}</script>"
      ],
      "text/vnd.plotly.v1+html": [
       "<script>requirejs.config({paths: { 'plotly': ['https://cdn.plot.ly/plotly-latest.min']},});if(!window.Plotly) {{require(['plotly'],function(plotly) {window.Plotly=plotly;});}}</script>"
      ]
     },
     "metadata": {},
     "output_type": "display_data"
    }
   ],
   "source": [
    "import pandas as pd\n",
    "from plotly.offline import init_notebook_mode, iplot\n",
    "import plotly.graph_objs as go\n",
    "init_notebook_mode(connected=True)"
   ]
  },
  {
   "cell_type": "code",
   "execution_count": 20,
   "metadata": {
    "_kg_hide-input": true,
    "_kg_hide-output": true,
    "_uuid": "210637e7730a73f151196926500065ba3db39924"
   },
   "outputs": [],
   "source": [
    "training_data = pd.DataFrame(train_generator.classes, columns=['classes'])\n",
    "testing_data = pd.DataFrame(validation_generator.classes, columns=['classes'])"
   ]
  },
  {
   "cell_type": "code",
   "execution_count": 21,
   "metadata": {
    "_kg_hide-input": true,
    "_kg_hide-output": true,
    "_uuid": "36dc842f5681c2832aea099fd0f72641624dd5a8"
   },
   "outputs": [],
   "source": [
    "def create_stack_bar_data(col, df):\n",
    "    aggregated = df[col].value_counts().sort_index()\n",
    "    x_values = aggregated.index.tolist()\n",
    "    y_values = aggregated.values.tolist()\n",
    "    return x_values, y_values"
   ]
  },
  {
   "cell_type": "code",
   "execution_count": 31,
   "metadata": {
    "_kg_hide-input": true,
    "_uuid": "4dad87c71087168297dfc800715a33b8794f1b7e"
   },
   "outputs": [
    {
     "data": {
      "application/vnd.plotly.v1+json": {
       "data": [
        {
         "name": "Class Count",
         "opacity": 0.75,
         "type": "bar",
         "uid": "5b556c08-9cd1-11e8-be39-88e9fe78ba80",
         "x": [
          "Apple Braeburn",
          "Apple Golden 1",
          "Apple Golden 2",
          "Apple Golden 3",
          "Apple Granny Smith",
          "Apple Red 1",
          "Apple Red 2",
          "Apple Red 3",
          "Apple Red Delicious",
          "Apple Red Yellow",
          "Apricot",
          "Avocado",
          "Avocado ripe",
          "Banana",
          "Banana Red",
          "Cactus fruit",
          "Cantaloupe 1",
          "Cantaloupe 2",
          "Carambula",
          "Cherry 1",
          "Cherry 2",
          "Cherry Rainier",
          "Cherry Wax Black",
          "Cherry Wax Red",
          "Cherry Wax Yellow",
          "Clementine",
          "Cocos",
          "Dates",
          "Granadilla",
          "Grape Pink",
          "Grape White",
          "Grape White 2",
          "Grapefruit Pink",
          "Grapefruit White",
          "Guava",
          "Huckleberry",
          "Kaki",
          "Kiwi",
          "Kumquats",
          "Lemon",
          "Lemon Meyer",
          "Limes",
          "Lychee",
          "Mandarine",
          "Mango",
          "Maracuja",
          "Melon Piel de Sapo",
          "Mulberry",
          "Nectarine",
          "Orange",
          "Papaya",
          "Passion Fruit",
          "Peach",
          "Peach Flat",
          "Pear",
          "Pear Abate",
          "Pear Monster",
          "Pear Williams",
          "Pepino",
          "Physalis",
          "Physalis with Husk",
          "Pineapple",
          "Pineapple Mini",
          "Pitahaya Red",
          "Plum",
          "Pomegranate",
          "Quince",
          "Rambutan",
          "Raspberry",
          "Salak",
          "Strawberry",
          "Strawberry Wedge",
          "Tamarillo",
          "Tangelo",
          "Walnut"
         ],
         "y": [
          492,
          492,
          492,
          481,
          492,
          492,
          492,
          429,
          490,
          492,
          492,
          427,
          491,
          490,
          490,
          490,
          492,
          492,
          490,
          492,
          738,
          738,
          492,
          492,
          492,
          490,
          490,
          490,
          490,
          492,
          490,
          490,
          490,
          492,
          490,
          490,
          490,
          466,
          490,
          492,
          490,
          490,
          490,
          490,
          490,
          490,
          738,
          492,
          492,
          479,
          492,
          490,
          492,
          492,
          492,
          490,
          490,
          490,
          490,
          492,
          492,
          490,
          493,
          490,
          447,
          492,
          490,
          492,
          490,
          490,
          492,
          738,
          490,
          490,
          735
         ]
        }
       ],
       "layout": {
        "height": 400,
        "legend": {
         "orientation": "h"
        },
        "title": "Class Distribution in Training Data",
        "width": 1200,
        "yaxis": {
         "title": "Class Count"
        }
       }
      },
      "text/html": [
       "<div id=\"2e957f06-8341-41fa-b54c-0f1e74a32e7c\" style=\"height: 400px; width: 1200px;\" class=\"plotly-graph-div\"></div><script type=\"text/javascript\">require([\"plotly\"], function(Plotly) { window.PLOTLYENV=window.PLOTLYENV || {};window.PLOTLYENV.BASE_URL=\"https://plot.ly\";\n",
       "        Plotly.plot(\n",
       "            '2e957f06-8341-41fa-b54c-0f1e74a32e7c',\n",
       "            [{\"name\": \"Class Count\", \"opacity\": 0.75, \"x\": [\"Apple Braeburn\", \"Apple Golden 1\", \"Apple Golden 2\", \"Apple Golden 3\", \"Apple Granny Smith\", \"Apple Red 1\", \"Apple Red 2\", \"Apple Red 3\", \"Apple Red Delicious\", \"Apple Red Yellow\", \"Apricot\", \"Avocado\", \"Avocado ripe\", \"Banana\", \"Banana Red\", \"Cactus fruit\", \"Cantaloupe 1\", \"Cantaloupe 2\", \"Carambula\", \"Cherry 1\", \"Cherry 2\", \"Cherry Rainier\", \"Cherry Wax Black\", \"Cherry Wax Red\", \"Cherry Wax Yellow\", \"Clementine\", \"Cocos\", \"Dates\", \"Granadilla\", \"Grape Pink\", \"Grape White\", \"Grape White 2\", \"Grapefruit Pink\", \"Grapefruit White\", \"Guava\", \"Huckleberry\", \"Kaki\", \"Kiwi\", \"Kumquats\", \"Lemon\", \"Lemon Meyer\", \"Limes\", \"Lychee\", \"Mandarine\", \"Mango\", \"Maracuja\", \"Melon Piel de Sapo\", \"Mulberry\", \"Nectarine\", \"Orange\", \"Papaya\", \"Passion Fruit\", \"Peach\", \"Peach Flat\", \"Pear\", \"Pear Abate\", \"Pear Monster\", \"Pear Williams\", \"Pepino\", \"Physalis\", \"Physalis with Husk\", \"Pineapple\", \"Pineapple Mini\", \"Pitahaya Red\", \"Plum\", \"Pomegranate\", \"Quince\", \"Rambutan\", \"Raspberry\", \"Salak\", \"Strawberry\", \"Strawberry Wedge\", \"Tamarillo\", \"Tangelo\", \"Walnut\"], \"y\": [492, 492, 492, 481, 492, 492, 492, 429, 490, 492, 492, 427, 491, 490, 490, 490, 492, 492, 490, 492, 738, 738, 492, 492, 492, 490, 490, 490, 490, 492, 490, 490, 490, 492, 490, 490, 490, 466, 490, 492, 490, 490, 490, 490, 490, 490, 738, 492, 492, 479, 492, 490, 492, 492, 492, 490, 490, 490, 490, 492, 492, 490, 493, 490, 447, 492, 490, 492, 490, 490, 492, 738, 490, 490, 735], \"type\": \"bar\", \"uid\": \"5b556c08-9cd1-11e8-be39-88e9fe78ba80\"}],\n",
       "            {\"height\": 400, \"legend\": {\"orientation\": \"h\"}, \"title\": \"Class Distribution in Training Data\", \"width\": 1200, \"yaxis\": {\"title\": \"Class Count\"}},\n",
       "            {\"showLink\": true, \"linkText\": \"Export to plot.ly\"}\n",
       "        ).then(function () {return Plotly.addFrames('2e957f06-8341-41fa-b54c-0f1e74a32e7c',{});}).then(function(){Plotly.animate('2e957f06-8341-41fa-b54c-0f1e74a32e7c');})\n",
       "        });</script>"
      ],
      "text/vnd.plotly.v1+html": [
       "<div id=\"2e957f06-8341-41fa-b54c-0f1e74a32e7c\" style=\"height: 400px; width: 1200px;\" class=\"plotly-graph-div\"></div><script type=\"text/javascript\">require([\"plotly\"], function(Plotly) { window.PLOTLYENV=window.PLOTLYENV || {};window.PLOTLYENV.BASE_URL=\"https://plot.ly\";\n",
       "        Plotly.plot(\n",
       "            '2e957f06-8341-41fa-b54c-0f1e74a32e7c',\n",
       "            [{\"name\": \"Class Count\", \"opacity\": 0.75, \"x\": [\"Apple Braeburn\", \"Apple Golden 1\", \"Apple Golden 2\", \"Apple Golden 3\", \"Apple Granny Smith\", \"Apple Red 1\", \"Apple Red 2\", \"Apple Red 3\", \"Apple Red Delicious\", \"Apple Red Yellow\", \"Apricot\", \"Avocado\", \"Avocado ripe\", \"Banana\", \"Banana Red\", \"Cactus fruit\", \"Cantaloupe 1\", \"Cantaloupe 2\", \"Carambula\", \"Cherry 1\", \"Cherry 2\", \"Cherry Rainier\", \"Cherry Wax Black\", \"Cherry Wax Red\", \"Cherry Wax Yellow\", \"Clementine\", \"Cocos\", \"Dates\", \"Granadilla\", \"Grape Pink\", \"Grape White\", \"Grape White 2\", \"Grapefruit Pink\", \"Grapefruit White\", \"Guava\", \"Huckleberry\", \"Kaki\", \"Kiwi\", \"Kumquats\", \"Lemon\", \"Lemon Meyer\", \"Limes\", \"Lychee\", \"Mandarine\", \"Mango\", \"Maracuja\", \"Melon Piel de Sapo\", \"Mulberry\", \"Nectarine\", \"Orange\", \"Papaya\", \"Passion Fruit\", \"Peach\", \"Peach Flat\", \"Pear\", \"Pear Abate\", \"Pear Monster\", \"Pear Williams\", \"Pepino\", \"Physalis\", \"Physalis with Husk\", \"Pineapple\", \"Pineapple Mini\", \"Pitahaya Red\", \"Plum\", \"Pomegranate\", \"Quince\", \"Rambutan\", \"Raspberry\", \"Salak\", \"Strawberry\", \"Strawberry Wedge\", \"Tamarillo\", \"Tangelo\", \"Walnut\"], \"y\": [492, 492, 492, 481, 492, 492, 492, 429, 490, 492, 492, 427, 491, 490, 490, 490, 492, 492, 490, 492, 738, 738, 492, 492, 492, 490, 490, 490, 490, 492, 490, 490, 490, 492, 490, 490, 490, 466, 490, 492, 490, 490, 490, 490, 490, 490, 738, 492, 492, 479, 492, 490, 492, 492, 492, 490, 490, 490, 490, 492, 492, 490, 493, 490, 447, 492, 490, 492, 490, 490, 492, 738, 490, 490, 735], \"type\": \"bar\", \"uid\": \"5b556c08-9cd1-11e8-be39-88e9fe78ba80\"}],\n",
       "            {\"height\": 400, \"legend\": {\"orientation\": \"h\"}, \"title\": \"Class Distribution in Training Data\", \"width\": 1200, \"yaxis\": {\"title\": \"Class Count\"}},\n",
       "            {\"showLink\": true, \"linkText\": \"Export to plot.ly\"}\n",
       "        ).then(function () {return Plotly.addFrames('2e957f06-8341-41fa-b54c-0f1e74a32e7c',{});}).then(function(){Plotly.animate('2e957f06-8341-41fa-b54c-0f1e74a32e7c');})\n",
       "        });</script>"
      ]
     },
     "metadata": {},
     "output_type": "display_data"
    }
   ],
   "source": [
    "x1, y1 = create_stack_bar_data('classes', training_data)\n",
    "#x1 = list(train_generator.class_indices.keys())\n",
    "# TODO: is class_names_list in the right order?\n",
    "class_names_list = list(train_generator.class_indices.keys())\n",
    "\n",
    "trace1 = go.Bar(x=class_names_list, y=y1, opacity=0.75, name=\"Class Count\")\n",
    "layout = dict(height=400, width=1200, title='Class Distribution in Training Data', legend=dict(orientation=\"h\"), \n",
    "                yaxis = dict(title = 'Class Count'))\n",
    "fig = go.Figure(data=[trace1], layout=layout);\n",
    "iplot(fig);"
   ]
  },
  {
   "cell_type": "code",
   "execution_count": 32,
   "metadata": {
    "_kg_hide-input": true,
    "_uuid": "112e7a007fe88dfa33825be102745a76abf0a039"
   },
   "outputs": [
    {
     "data": {
      "application/vnd.plotly.v1+json": {
       "data": [
        {
         "name": "Class Count",
         "opacity": 0.75,
         "type": "bar",
         "uid": "8c1c67ba-9cd1-11e8-b0ee-88e9fe78ba80",
         "x": [
          "Apple Braeburn",
          "Apple Golden 1",
          "Apple Golden 2",
          "Apple Golden 3",
          "Apple Granny Smith",
          "Apple Red 1",
          "Apple Red 2",
          "Apple Red 3",
          "Apple Red Delicious",
          "Apple Red Yellow",
          "Apricot",
          "Avocado",
          "Avocado ripe",
          "Banana",
          "Banana Red",
          "Cactus fruit",
          "Cantaloupe 1",
          "Cantaloupe 2",
          "Carambula",
          "Cherry 1",
          "Cherry 2",
          "Cherry Rainier",
          "Cherry Wax Black",
          "Cherry Wax Red",
          "Cherry Wax Yellow",
          "Clementine",
          "Cocos",
          "Dates",
          "Granadilla",
          "Grape Pink",
          "Grape White",
          "Grape White 2",
          "Grapefruit Pink",
          "Grapefruit White",
          "Guava",
          "Huckleberry",
          "Kaki",
          "Kiwi",
          "Kumquats",
          "Lemon",
          "Lemon Meyer",
          "Limes",
          "Lychee",
          "Mandarine",
          "Mango",
          "Maracuja",
          "Melon Piel de Sapo",
          "Mulberry",
          "Nectarine",
          "Orange",
          "Papaya",
          "Passion Fruit",
          "Peach",
          "Peach Flat",
          "Pear",
          "Pear Abate",
          "Pear Monster",
          "Pear Williams",
          "Pepino",
          "Physalis",
          "Physalis with Husk",
          "Pineapple",
          "Pineapple Mini",
          "Pitahaya Red",
          "Plum",
          "Pomegranate",
          "Quince",
          "Rambutan",
          "Raspberry",
          "Salak",
          "Strawberry",
          "Strawberry Wedge",
          "Tamarillo",
          "Tangelo",
          "Walnut"
         ],
         "y": [
          164,
          164,
          164,
          161,
          164,
          164,
          164,
          144,
          166,
          164,
          164,
          143,
          166,
          166,
          166,
          166,
          164,
          164,
          166,
          164,
          246,
          246,
          164,
          164,
          164,
          166,
          166,
          166,
          166,
          164,
          166,
          166,
          166,
          164,
          166,
          166,
          166,
          156,
          166,
          164,
          166,
          166,
          166,
          166,
          166,
          166,
          246,
          164,
          164,
          160,
          164,
          166,
          164,
          164,
          164,
          166,
          166,
          166,
          166,
          164,
          164,
          166,
          163,
          166,
          151,
          164,
          166,
          164,
          166,
          162,
          164,
          246,
          166,
          166,
          249
         ]
        }
       ],
       "layout": {
        "height": 400,
        "legend": {
         "orientation": "h"
        },
        "title": "Class Distribution in Validation Data",
        "width": 1100,
        "yaxis": {
         "title": "Class Count"
        }
       }
      },
      "text/html": [
       "<div id=\"d9208dd0-e048-45b7-b4b0-e7fe4caf50c5\" style=\"height: 400px; width: 1100px;\" class=\"plotly-graph-div\"></div><script type=\"text/javascript\">require([\"plotly\"], function(Plotly) { window.PLOTLYENV=window.PLOTLYENV || {};window.PLOTLYENV.BASE_URL=\"https://plot.ly\";\n",
       "        Plotly.plot(\n",
       "            'd9208dd0-e048-45b7-b4b0-e7fe4caf50c5',\n",
       "            [{\"name\": \"Class Count\", \"opacity\": 0.75, \"x\": [\"Apple Braeburn\", \"Apple Golden 1\", \"Apple Golden 2\", \"Apple Golden 3\", \"Apple Granny Smith\", \"Apple Red 1\", \"Apple Red 2\", \"Apple Red 3\", \"Apple Red Delicious\", \"Apple Red Yellow\", \"Apricot\", \"Avocado\", \"Avocado ripe\", \"Banana\", \"Banana Red\", \"Cactus fruit\", \"Cantaloupe 1\", \"Cantaloupe 2\", \"Carambula\", \"Cherry 1\", \"Cherry 2\", \"Cherry Rainier\", \"Cherry Wax Black\", \"Cherry Wax Red\", \"Cherry Wax Yellow\", \"Clementine\", \"Cocos\", \"Dates\", \"Granadilla\", \"Grape Pink\", \"Grape White\", \"Grape White 2\", \"Grapefruit Pink\", \"Grapefruit White\", \"Guava\", \"Huckleberry\", \"Kaki\", \"Kiwi\", \"Kumquats\", \"Lemon\", \"Lemon Meyer\", \"Limes\", \"Lychee\", \"Mandarine\", \"Mango\", \"Maracuja\", \"Melon Piel de Sapo\", \"Mulberry\", \"Nectarine\", \"Orange\", \"Papaya\", \"Passion Fruit\", \"Peach\", \"Peach Flat\", \"Pear\", \"Pear Abate\", \"Pear Monster\", \"Pear Williams\", \"Pepino\", \"Physalis\", \"Physalis with Husk\", \"Pineapple\", \"Pineapple Mini\", \"Pitahaya Red\", \"Plum\", \"Pomegranate\", \"Quince\", \"Rambutan\", \"Raspberry\", \"Salak\", \"Strawberry\", \"Strawberry Wedge\", \"Tamarillo\", \"Tangelo\", \"Walnut\"], \"y\": [164, 164, 164, 161, 164, 164, 164, 144, 166, 164, 164, 143, 166, 166, 166, 166, 164, 164, 166, 164, 246, 246, 164, 164, 164, 166, 166, 166, 166, 164, 166, 166, 166, 164, 166, 166, 166, 156, 166, 164, 166, 166, 166, 166, 166, 166, 246, 164, 164, 160, 164, 166, 164, 164, 164, 166, 166, 166, 166, 164, 164, 166, 163, 166, 151, 164, 166, 164, 166, 162, 164, 246, 166, 166, 249], \"type\": \"bar\", \"uid\": \"8c1c67ba-9cd1-11e8-b0ee-88e9fe78ba80\"}],\n",
       "            {\"height\": 400, \"legend\": {\"orientation\": \"h\"}, \"title\": \"Class Distribution in Validation Data\", \"width\": 1100, \"yaxis\": {\"title\": \"Class Count\"}},\n",
       "            {\"showLink\": true, \"linkText\": \"Export to plot.ly\"}\n",
       "        ).then(function () {return Plotly.addFrames('d9208dd0-e048-45b7-b4b0-e7fe4caf50c5',{});}).then(function(){Plotly.animate('d9208dd0-e048-45b7-b4b0-e7fe4caf50c5');})\n",
       "        });</script>"
      ],
      "text/vnd.plotly.v1+html": [
       "<div id=\"d9208dd0-e048-45b7-b4b0-e7fe4caf50c5\" style=\"height: 400px; width: 1100px;\" class=\"plotly-graph-div\"></div><script type=\"text/javascript\">require([\"plotly\"], function(Plotly) { window.PLOTLYENV=window.PLOTLYENV || {};window.PLOTLYENV.BASE_URL=\"https://plot.ly\";\n",
       "        Plotly.plot(\n",
       "            'd9208dd0-e048-45b7-b4b0-e7fe4caf50c5',\n",
       "            [{\"name\": \"Class Count\", \"opacity\": 0.75, \"x\": [\"Apple Braeburn\", \"Apple Golden 1\", \"Apple Golden 2\", \"Apple Golden 3\", \"Apple Granny Smith\", \"Apple Red 1\", \"Apple Red 2\", \"Apple Red 3\", \"Apple Red Delicious\", \"Apple Red Yellow\", \"Apricot\", \"Avocado\", \"Avocado ripe\", \"Banana\", \"Banana Red\", \"Cactus fruit\", \"Cantaloupe 1\", \"Cantaloupe 2\", \"Carambula\", \"Cherry 1\", \"Cherry 2\", \"Cherry Rainier\", \"Cherry Wax Black\", \"Cherry Wax Red\", \"Cherry Wax Yellow\", \"Clementine\", \"Cocos\", \"Dates\", \"Granadilla\", \"Grape Pink\", \"Grape White\", \"Grape White 2\", \"Grapefruit Pink\", \"Grapefruit White\", \"Guava\", \"Huckleberry\", \"Kaki\", \"Kiwi\", \"Kumquats\", \"Lemon\", \"Lemon Meyer\", \"Limes\", \"Lychee\", \"Mandarine\", \"Mango\", \"Maracuja\", \"Melon Piel de Sapo\", \"Mulberry\", \"Nectarine\", \"Orange\", \"Papaya\", \"Passion Fruit\", \"Peach\", \"Peach Flat\", \"Pear\", \"Pear Abate\", \"Pear Monster\", \"Pear Williams\", \"Pepino\", \"Physalis\", \"Physalis with Husk\", \"Pineapple\", \"Pineapple Mini\", \"Pitahaya Red\", \"Plum\", \"Pomegranate\", \"Quince\", \"Rambutan\", \"Raspberry\", \"Salak\", \"Strawberry\", \"Strawberry Wedge\", \"Tamarillo\", \"Tangelo\", \"Walnut\"], \"y\": [164, 164, 164, 161, 164, 164, 164, 144, 166, 164, 164, 143, 166, 166, 166, 166, 164, 164, 166, 164, 246, 246, 164, 164, 164, 166, 166, 166, 166, 164, 166, 166, 166, 164, 166, 166, 166, 156, 166, 164, 166, 166, 166, 166, 166, 166, 246, 164, 164, 160, 164, 166, 164, 164, 164, 166, 166, 166, 166, 164, 164, 166, 163, 166, 151, 164, 166, 164, 166, 162, 164, 246, 166, 166, 249], \"type\": \"bar\", \"uid\": \"8c1c67ba-9cd1-11e8-b0ee-88e9fe78ba80\"}],\n",
       "            {\"height\": 400, \"legend\": {\"orientation\": \"h\"}, \"title\": \"Class Distribution in Validation Data\", \"width\": 1100, \"yaxis\": {\"title\": \"Class Count\"}},\n",
       "            {\"showLink\": true, \"linkText\": \"Export to plot.ly\"}\n",
       "        ).then(function () {return Plotly.addFrames('d9208dd0-e048-45b7-b4b0-e7fe4caf50c5',{});}).then(function(){Plotly.animate('d9208dd0-e048-45b7-b4b0-e7fe4caf50c5');})\n",
       "        });</script>"
      ]
     },
     "metadata": {},
     "output_type": "display_data"
    }
   ],
   "source": [
    "x1, y1 = create_stack_bar_data('classes', testing_data)\n",
    "train_class_names = list(validation_generator.class_indices.keys())\n",
    "\n",
    "trace1 = go.Bar(x=train_class_names, y=y1, opacity=0.75, name=\"Class Count\")\n",
    "layout = dict(height=400, width=1100, title='Class Distribution in Validation Data', legend=dict(orientation=\"h\"), \n",
    "                yaxis = dict(title = 'Class Count'))\n",
    "fig = go.Figure(data=[trace1], layout=layout);\n",
    "iplot(fig);"
   ]
  },
  {
   "cell_type": "markdown",
   "metadata": {
    "_uuid": "d9f4d0acf6960444a51fa89965bd2daf705aa3d7"
   },
   "source": [
    "> - As we can see, all the classes are extremely well-balanced in training as well as the validation.\n",
    "\n",
    "## 4. Building and Compiling the Model\n",
    "### Building the Models\n",
    "\n",
    "Here, we load the ResNet-50 with the ImageNet weights. We remove the top so that we can add our own layer according to the number of our classes. We then add our own layers to complete the model architecture.\n",
    "\n",
    "* ### Building Pretrained Model"
   ]
  },
  {
   "cell_type": "code",
   "execution_count": 38,
   "metadata": {
    "_uuid": "0675731009c8480b1626dfc2e1f0063a6113cefd"
   },
   "outputs": [
    {
     "name": "stderr",
     "output_type": "stream",
     "text": [
      "/anaconda3/lib/python3.6/site-packages/keras_applications/resnet50.py:263: UserWarning:\n",
      "\n",
      "The output shape of `ResNet50(include_top=False)` has been changed since Keras 2.2.0.\n",
      "\n"
     ]
    }
   ],
   "source": [
    "#import inception with pre-trained weights. do not include fully #connected layers\n",
    "inception_base = applications.ResNet50(weights='imagenet', include_top=False)\n",
    "\n",
    "# add a global spatial average pooling layer\n",
    "x = inception_base.output\n",
    "x = GlobalAveragePooling2D()(x)\n",
    "# add a fully-connected layer\n",
    "x = Dense(512, activation='relu')(x)\n",
    "# and a fully connected output/classification layer\n",
    "predictions = Dense(len(class_names_list), activation='softmax')(x)\n",
    "# create the full network so we can train on it\n",
    "inception_transfer = Model(inputs=inception_base.input, outputs=predictions)"
   ]
  },
  {
   "cell_type": "markdown",
   "metadata": {
    "_uuid": "92f747a723c3ded5202fe407867efb49707814c2"
   },
   "source": [
    "*  ### Building the Vanilla Model"
   ]
  },
  {
   "cell_type": "code",
   "execution_count": 39,
   "metadata": {
    "_uuid": "2e13ac9491b83872f2f0197be1bb19131de044fd"
   },
   "outputs": [
    {
     "name": "stderr",
     "output_type": "stream",
     "text": [
      "/anaconda3/lib/python3.6/site-packages/keras_applications/resnet50.py:263: UserWarning:\n",
      "\n",
      "The output shape of `ResNet50(include_top=False)` has been changed since Keras 2.2.0.\n",
      "\n"
     ]
    }
   ],
   "source": [
    "#import inception with pre-trained weights. do not include fully #connected layers\n",
    "inception_base_vanilla = applications.ResNet50(weights=None, include_top=False)\n",
    "\n",
    "# add a global spatial average pooling layer\n",
    "x = inception_base_vanilla.output\n",
    "x = GlobalAveragePooling2D()(x)\n",
    "# add a fully-connected layer\n",
    "x = Dense(512, activation='relu')(x)\n",
    "# and a fully connected output/classification layer\n",
    "predictions = Dense(len(class_names_list), activation='softmax')(x)\n",
    "# create the full network so we can train on it\n",
    "inception_transfer_vanilla = Model(inputs=inception_base_vanilla.input, outputs=predictions)"
   ]
  },
  {
   "cell_type": "markdown",
   "metadata": {
    "_uuid": "6aa194ec89eb89a3add127a55a2f000d8eef4242"
   },
   "source": [
    "### Compiling the Models\n",
    "We set the loss function, the optimization algorithm to be used and metrics to be calculated at the end of each epoch."
   ]
  },
  {
   "cell_type": "code",
   "execution_count": 40,
   "metadata": {
    "_uuid": "32faac2e3cc9284e2a850e6ba6d8ed48f0027bc9"
   },
   "outputs": [],
   "source": [
    "inception_transfer.compile(loss='categorical_crossentropy',\n",
    "              optimizer=optimizers.SGD(lr=1e-4, momentum=0.9),\n",
    "              metrics=['accuracy'])\n",
    "\n",
    "inception_transfer_vanilla.compile(loss='categorical_crossentropy',\n",
    "              optimizer=optimizers.SGD(lr=1e-4, momentum=0.9),\n",
    "              metrics=['accuracy'])"
   ]
  },
  {
   "cell_type": "code",
   "execution_count": 41,
   "metadata": {
    "_uuid": "c431a1b92d69a488474151e6b6e82e5986c95ee5"
   },
   "outputs": [
    {
     "name": "stdout",
     "output_type": "stream",
     "text": [
      "[name: \"/device:CPU:0\"\n",
      "device_type: \"CPU\"\n",
      "memory_limit: 268435456\n",
      "locality {\n",
      "}\n",
      "incarnation: 2855372726755847574\n",
      "]\n"
     ]
    }
   ],
   "source": [
    "from tensorflow.python.client import device_lib\n",
    "print(device_lib.list_local_devices())"
   ]
  },
  {
   "cell_type": "markdown",
   "metadata": {
    "_uuid": "51faa223c0d0e55247cba4a9c3cd75db66d904bd"
   },
   "source": [
    "## 5. Training and Validating the Pretrained Model\n",
    "\n",
    "We use the **fit_generator()** function because we are using object of the **ImageDataGenerator** class to fetch data."
   ]
  },
  {
   "cell_type": "code",
   "execution_count": 42,
   "metadata": {
    "_uuid": "a9614fee3f8c6ef57d9222afd73165992db75c31"
   },
   "outputs": [
    {
     "name": "stdout",
     "output_type": "stream",
     "text": [
      "Epoch 1/5\n",
      " 258/2365 [==>...........................] - ETA: 9:46:31 - loss: 3.9729 - acc: 0.1439"
     ]
    },
    {
     "ename": "KeyboardInterrupt",
     "evalue": "",
     "output_type": "error",
     "traceback": [
      "\u001b[0;31m---------------------------------------------------------------------------\u001b[0m",
      "\u001b[0;31mKeyboardInterrupt\u001b[0m                         Traceback (most recent call last)",
      "\u001b[0;32m<ipython-input-42-a2a71863bdd6>\u001b[0m in \u001b[0;36m<module>\u001b[0;34m()\u001b[0m\n\u001b[1;32m      3\u001b[0m     history_pretrained = inception_transfer.fit_generator(\n\u001b[1;32m      4\u001b[0m     \u001b[0mtrain_generator\u001b[0m\u001b[0;34m,\u001b[0m\u001b[0;34m\u001b[0m\u001b[0m\n\u001b[0;32m----> 5\u001b[0;31m     epochs=5, shuffle = True, verbose = 1, validation_data = validation_generator)\n\u001b[0m",
      "\u001b[0;32m/anaconda3/lib/python3.6/site-packages/keras/legacy/interfaces.py\u001b[0m in \u001b[0;36mwrapper\u001b[0;34m(*args, **kwargs)\u001b[0m\n\u001b[1;32m     89\u001b[0m                 warnings.warn('Update your `' + object_name +\n\u001b[1;32m     90\u001b[0m                               '` call to the Keras 2 API: ' + signature, stacklevel=2)\n\u001b[0;32m---> 91\u001b[0;31m             \u001b[0;32mreturn\u001b[0m \u001b[0mfunc\u001b[0m\u001b[0;34m(\u001b[0m\u001b[0;34m*\u001b[0m\u001b[0margs\u001b[0m\u001b[0;34m,\u001b[0m \u001b[0;34m**\u001b[0m\u001b[0mkwargs\u001b[0m\u001b[0;34m)\u001b[0m\u001b[0;34m\u001b[0m\u001b[0m\n\u001b[0m\u001b[1;32m     92\u001b[0m         \u001b[0mwrapper\u001b[0m\u001b[0;34m.\u001b[0m\u001b[0m_original_function\u001b[0m \u001b[0;34m=\u001b[0m \u001b[0mfunc\u001b[0m\u001b[0;34m\u001b[0m\u001b[0m\n\u001b[1;32m     93\u001b[0m         \u001b[0;32mreturn\u001b[0m \u001b[0mwrapper\u001b[0m\u001b[0;34m\u001b[0m\u001b[0m\n",
      "\u001b[0;32m/anaconda3/lib/python3.6/site-packages/keras/engine/training.py\u001b[0m in \u001b[0;36mfit_generator\u001b[0;34m(self, generator, steps_per_epoch, epochs, verbose, callbacks, validation_data, validation_steps, class_weight, max_queue_size, workers, use_multiprocessing, shuffle, initial_epoch)\u001b[0m\n\u001b[1;32m   1413\u001b[0m             \u001b[0muse_multiprocessing\u001b[0m\u001b[0;34m=\u001b[0m\u001b[0muse_multiprocessing\u001b[0m\u001b[0;34m,\u001b[0m\u001b[0;34m\u001b[0m\u001b[0m\n\u001b[1;32m   1414\u001b[0m             \u001b[0mshuffle\u001b[0m\u001b[0;34m=\u001b[0m\u001b[0mshuffle\u001b[0m\u001b[0;34m,\u001b[0m\u001b[0;34m\u001b[0m\u001b[0m\n\u001b[0;32m-> 1415\u001b[0;31m             initial_epoch=initial_epoch)\n\u001b[0m\u001b[1;32m   1416\u001b[0m \u001b[0;34m\u001b[0m\u001b[0m\n\u001b[1;32m   1417\u001b[0m     \u001b[0;34m@\u001b[0m\u001b[0minterfaces\u001b[0m\u001b[0;34m.\u001b[0m\u001b[0mlegacy_generator_methods_support\u001b[0m\u001b[0;34m\u001b[0m\u001b[0m\n",
      "\u001b[0;32m/anaconda3/lib/python3.6/site-packages/keras/engine/training_generator.py\u001b[0m in \u001b[0;36mfit_generator\u001b[0;34m(model, generator, steps_per_epoch, epochs, verbose, callbacks, validation_data, validation_steps, class_weight, max_queue_size, workers, use_multiprocessing, shuffle, initial_epoch)\u001b[0m\n\u001b[1;32m    211\u001b[0m                 outs = model.train_on_batch(x, y,\n\u001b[1;32m    212\u001b[0m                                             \u001b[0msample_weight\u001b[0m\u001b[0;34m=\u001b[0m\u001b[0msample_weight\u001b[0m\u001b[0;34m,\u001b[0m\u001b[0;34m\u001b[0m\u001b[0m\n\u001b[0;32m--> 213\u001b[0;31m                                             class_weight=class_weight)\n\u001b[0m\u001b[1;32m    214\u001b[0m \u001b[0;34m\u001b[0m\u001b[0m\n\u001b[1;32m    215\u001b[0m                 \u001b[0mouts\u001b[0m \u001b[0;34m=\u001b[0m \u001b[0mto_list\u001b[0m\u001b[0;34m(\u001b[0m\u001b[0mouts\u001b[0m\u001b[0;34m)\u001b[0m\u001b[0;34m\u001b[0m\u001b[0m\n",
      "\u001b[0;32m/anaconda3/lib/python3.6/site-packages/keras/engine/training.py\u001b[0m in \u001b[0;36mtrain_on_batch\u001b[0;34m(self, x, y, sample_weight, class_weight)\u001b[0m\n\u001b[1;32m   1213\u001b[0m             \u001b[0mins\u001b[0m \u001b[0;34m=\u001b[0m \u001b[0mx\u001b[0m \u001b[0;34m+\u001b[0m \u001b[0my\u001b[0m \u001b[0;34m+\u001b[0m \u001b[0msample_weights\u001b[0m\u001b[0;34m\u001b[0m\u001b[0m\n\u001b[1;32m   1214\u001b[0m         \u001b[0mself\u001b[0m\u001b[0;34m.\u001b[0m\u001b[0m_make_train_function\u001b[0m\u001b[0;34m(\u001b[0m\u001b[0;34m)\u001b[0m\u001b[0;34m\u001b[0m\u001b[0m\n\u001b[0;32m-> 1215\u001b[0;31m         \u001b[0moutputs\u001b[0m \u001b[0;34m=\u001b[0m \u001b[0mself\u001b[0m\u001b[0;34m.\u001b[0m\u001b[0mtrain_function\u001b[0m\u001b[0;34m(\u001b[0m\u001b[0mins\u001b[0m\u001b[0;34m)\u001b[0m\u001b[0;34m\u001b[0m\u001b[0m\n\u001b[0m\u001b[1;32m   1216\u001b[0m         \u001b[0;32mreturn\u001b[0m \u001b[0munpack_singleton\u001b[0m\u001b[0;34m(\u001b[0m\u001b[0moutputs\u001b[0m\u001b[0;34m)\u001b[0m\u001b[0;34m\u001b[0m\u001b[0m\n\u001b[1;32m   1217\u001b[0m \u001b[0;34m\u001b[0m\u001b[0m\n",
      "\u001b[0;32m/anaconda3/lib/python3.6/site-packages/keras/backend/tensorflow_backend.py\u001b[0m in \u001b[0;36m__call__\u001b[0;34m(self, inputs)\u001b[0m\n\u001b[1;32m   2664\u001b[0m                 \u001b[0;32mreturn\u001b[0m \u001b[0mself\u001b[0m\u001b[0;34m.\u001b[0m\u001b[0m_legacy_call\u001b[0m\u001b[0;34m(\u001b[0m\u001b[0minputs\u001b[0m\u001b[0;34m)\u001b[0m\u001b[0;34m\u001b[0m\u001b[0m\n\u001b[1;32m   2665\u001b[0m \u001b[0;34m\u001b[0m\u001b[0m\n\u001b[0;32m-> 2666\u001b[0;31m             \u001b[0;32mreturn\u001b[0m \u001b[0mself\u001b[0m\u001b[0;34m.\u001b[0m\u001b[0m_call\u001b[0m\u001b[0;34m(\u001b[0m\u001b[0minputs\u001b[0m\u001b[0;34m)\u001b[0m\u001b[0;34m\u001b[0m\u001b[0m\n\u001b[0m\u001b[1;32m   2667\u001b[0m         \u001b[0;32melse\u001b[0m\u001b[0;34m:\u001b[0m\u001b[0;34m\u001b[0m\u001b[0m\n\u001b[1;32m   2668\u001b[0m             \u001b[0;32mif\u001b[0m \u001b[0mpy_any\u001b[0m\u001b[0;34m(\u001b[0m\u001b[0mis_tensor\u001b[0m\u001b[0;34m(\u001b[0m\u001b[0mx\u001b[0m\u001b[0;34m)\u001b[0m \u001b[0;32mfor\u001b[0m \u001b[0mx\u001b[0m \u001b[0;32min\u001b[0m \u001b[0minputs\u001b[0m\u001b[0;34m)\u001b[0m\u001b[0;34m:\u001b[0m\u001b[0;34m\u001b[0m\u001b[0m\n",
      "\u001b[0;32m/anaconda3/lib/python3.6/site-packages/keras/backend/tensorflow_backend.py\u001b[0m in \u001b[0;36m_call\u001b[0;34m(self, inputs)\u001b[0m\n\u001b[1;32m   2634\u001b[0m                                 \u001b[0msymbol_vals\u001b[0m\u001b[0;34m,\u001b[0m\u001b[0;34m\u001b[0m\u001b[0m\n\u001b[1;32m   2635\u001b[0m                                 session)\n\u001b[0;32m-> 2636\u001b[0;31m         \u001b[0mfetched\u001b[0m \u001b[0;34m=\u001b[0m \u001b[0mself\u001b[0m\u001b[0;34m.\u001b[0m\u001b[0m_callable_fn\u001b[0m\u001b[0;34m(\u001b[0m\u001b[0;34m*\u001b[0m\u001b[0marray_vals\u001b[0m\u001b[0;34m)\u001b[0m\u001b[0;34m\u001b[0m\u001b[0m\n\u001b[0m\u001b[1;32m   2637\u001b[0m         \u001b[0;32mreturn\u001b[0m \u001b[0mfetched\u001b[0m\u001b[0;34m[\u001b[0m\u001b[0;34m:\u001b[0m\u001b[0mlen\u001b[0m\u001b[0;34m(\u001b[0m\u001b[0mself\u001b[0m\u001b[0;34m.\u001b[0m\u001b[0moutputs\u001b[0m\u001b[0;34m)\u001b[0m\u001b[0;34m]\u001b[0m\u001b[0;34m\u001b[0m\u001b[0m\n\u001b[1;32m   2638\u001b[0m \u001b[0;34m\u001b[0m\u001b[0m\n",
      "\u001b[0;32m/anaconda3/lib/python3.6/site-packages/tensorflow/python/client/session.py\u001b[0m in \u001b[0;36m__call__\u001b[0;34m(self, *args, **kwargs)\u001b[0m\n\u001b[1;32m   1380\u001b[0m           ret = tf_session.TF_SessionRunCallable(\n\u001b[1;32m   1381\u001b[0m               \u001b[0mself\u001b[0m\u001b[0;34m.\u001b[0m\u001b[0m_session\u001b[0m\u001b[0;34m.\u001b[0m\u001b[0m_session\u001b[0m\u001b[0;34m,\u001b[0m \u001b[0mself\u001b[0m\u001b[0;34m.\u001b[0m\u001b[0m_handle\u001b[0m\u001b[0;34m,\u001b[0m \u001b[0margs\u001b[0m\u001b[0;34m,\u001b[0m \u001b[0mstatus\u001b[0m\u001b[0;34m,\u001b[0m\u001b[0;34m\u001b[0m\u001b[0m\n\u001b[0;32m-> 1382\u001b[0;31m               run_metadata_ptr)\n\u001b[0m\u001b[1;32m   1383\u001b[0m         \u001b[0;32mif\u001b[0m \u001b[0mrun_metadata\u001b[0m\u001b[0;34m:\u001b[0m\u001b[0;34m\u001b[0m\u001b[0m\n\u001b[1;32m   1384\u001b[0m           \u001b[0mproto_data\u001b[0m \u001b[0;34m=\u001b[0m \u001b[0mtf_session\u001b[0m\u001b[0;34m.\u001b[0m\u001b[0mTF_GetBuffer\u001b[0m\u001b[0;34m(\u001b[0m\u001b[0mrun_metadata_ptr\u001b[0m\u001b[0;34m)\u001b[0m\u001b[0;34m\u001b[0m\u001b[0m\n",
      "\u001b[0;31mKeyboardInterrupt\u001b[0m: "
     ]
    }
   ],
   "source": [
    "import tensorflow as tf\n",
    "with tf.device(\"/device:GPU:0\"):\n",
    "    history_pretrained = inception_transfer.fit_generator(\n",
    "    train_generator,\n",
    "    epochs=5, shuffle = True, verbose = 1, validation_data = validation_generator)"
   ]
  },
  {
   "cell_type": "code",
   "execution_count": null,
   "metadata": {
    "_uuid": "f28bc92784a9775eb932016d7d7991462695b663"
   },
   "outputs": [],
   "source": [
    "with tf.device(\"/device:GPU:0\"):\n",
    "    history_vanilla = inception_transfer_vanilla.fit_generator(\n",
    "    train_generator,\n",
    "    epochs=5, shuffle = True, verbose = 1, validation_data = validation_generator)"
   ]
  },
  {
   "cell_type": "code",
   "execution_count": null,
   "metadata": {
    "_uuid": "0cceee10d794d81ad62c95e4334701086417f739"
   },
   "outputs": [],
   "source": [
    "import matplotlib.pyplot as plt\n",
    "# summarize history for accuracy\n",
    "plt.plot(history_pretrained.history['val_acc'])\n",
    "plt.plot(history_vanilla.history['val_acc'])\n",
    "plt.title('model accuracy')\n",
    "plt.ylabel('accuracy')\n",
    "plt.xlabel('epoch')\n",
    "plt.legend(['Pretrained', 'Vanilla'], loc='upper left')\n",
    "plt.show()\n",
    "# summarize history for loss\n",
    "plt.plot(history_pretrained.history['val_loss'])\n",
    "plt.plot(history_vanilla.history['val_loss'])\n",
    "plt.title('model loss')\n",
    "plt.ylabel('loss')\n",
    "plt.xlabel('epoch')\n",
    "plt.legend(['Pretrained', 'Vanilla'], loc='upper left')\n",
    "plt.show()"
   ]
  },
  {
   "cell_type": "code",
   "execution_count": 55,
   "metadata": {
    "_uuid": "5fb6f88bc4f488d8a80977aa5615b48865f1f0f1"
   },
   "outputs": [
    {
     "name": "stdout",
     "output_type": "stream",
     "text": [
      "['__builtins__', '__cached__', '__doc__', '__file__', '__loader__', '__name__', '__package__', '__spec__', '__warningregistry__', 'connect_qtconsole', 'find_connection_file', 'get_connection_file', 'get_connection_info', 'warnings', 'write_connection_file']\n",
      "{\n",
      "  \"shell_port\": 65048,\n",
      "  \"iopub_port\": 65049,\n",
      "  \"stdin_port\": 65050,\n",
      "  \"control_port\": 65051,\n",
      "  \"hb_port\": 65052,\n",
      "  \"ip\": \"127.0.0.1\",\n",
      "  \"key\": \"4bcc4197-899e6d13467efd296f158af7\",\n",
      "  \"transport\": \"tcp\",\n",
      "  \"signature_scheme\": \"hmac-sha256\",\n",
      "  \"kernel_name\": \"\"\n",
      "}\n",
      "/Users/yuval.g/Library/Jupyter/runtime/kernel-0729af36-b0b8-4ad8-ac90-8991c6301a30.json\n"
     ]
    }
   ],
   "source": [
    "from IPython.lib import kernel\n",
    "print(dir(kernel))\n",
    "print(kernel.get_connection_info())\n",
    "print(kernel.get_connection_file())\n"
   ]
  },
  {
   "cell_type": "code",
   "execution_count": null,
   "metadata": {},
   "outputs": [],
   "source": []
  }
 ],
 "metadata": {
  "kernelspec": {
   "display_name": "Python 3",
   "language": "python",
   "name": "python3"
  },
  "language_info": {
   "codemirror_mode": {
    "name": "ipython",
    "version": 3
   },
   "file_extension": ".py",
   "mimetype": "text/x-python",
   "name": "python",
   "nbconvert_exporter": "python",
   "pygments_lexer": "ipython3",
   "version": "3.6.5"
  }
 },
 "nbformat": 4,
 "nbformat_minor": 1
}
